{
 "metadata": {
  "language_info": {
   "codemirror_mode": {
    "name": "ipython",
    "version": 3
   },
   "file_extension": ".py",
   "mimetype": "text/x-python",
   "name": "python",
   "nbconvert_exporter": "python",
   "pygments_lexer": "ipython3",
   "version": "3.8.5-final"
  },
  "orig_nbformat": 2,
  "kernelspec": {
   "name": "python_defaultSpec_1599129129458",
   "display_name": "Python 3.8.5 64-bit"
  }
 },
 "nbformat": 4,
 "nbformat_minor": 2,
 "cells": [
  {
   "cell_type": "markdown",
   "metadata": {},
   "source": [
    "# Assignment1"
   ]
  },
  {
   "cell_type": "markdown",
   "metadata": {},
   "source": [
    "## Creat a list"
   ]
  },
  {
   "cell_type": "code",
   "execution_count": 1,
   "metadata": {},
   "outputs": [],
   "source": [
    "arr = []"
   ]
  },
  {
   "cell_type": "markdown",
   "metadata": {},
   "source": [
    "## Read the items from the user (10 elements)"
   ]
  },
  {
   "cell_type": "code",
   "execution_count": 2,
   "metadata": {},
   "outputs": [],
   "source": [
    "for i in range(10):\n",
    "    arr.append(input(f\"please enter the {i+1} element\"))"
   ]
  },
  {
   "cell_type": "markdown",
   "metadata": {},
   "source": [
    "## Remove duplication"
   ]
  },
  {
   "cell_type": "code",
   "execution_count": 3,
   "metadata": {
    "tags": []
   },
   "outputs": [
    {
     "output_type": "stream",
     "name": "stdout",
     "text": "The list without duplicates: ['1', '2', '3', '5', '6', '0']\n"
    }
   ],
   "source": [
    "x= len(arr) ;i = 0\n",
    "while i < x:\n",
    "    j=0\n",
    "    while j < x:\n",
    "        if i != j and arr[i] == arr [j]:\n",
    "            del arr[j]\n",
    "            x -= 1\n",
    "        else:\n",
    "            j += 1        \n",
    "    i+=1\n",
    "print(f'The list without duplicates: {arr}')"
   ]
  },
  {
   "cell_type": "markdown",
   "metadata": {},
   "source": [
    "### A better way to remove duplicates"
   ]
  },
  {
   "cell_type": "code",
   "execution_count": 4,
   "metadata": {
    "tags": []
   },
   "outputs": [
    {
     "output_type": "stream",
     "name": "stdout",
     "text": "The list without duplicates: ['1', '2', '3', '5', '6', '0']\n"
    }
   ],
   "source": [
    "arr=list(dict.fromkeys(arr))\n",
    "print(f'The list without duplicates: {arr}')"
   ]
  },
  {
   "cell_type": "markdown",
   "metadata": {},
   "source": [
    "## Sort the list "
   ]
  },
  {
   "cell_type": "code",
   "execution_count": 5,
   "metadata": {
    "tags": []
   },
   "outputs": [
    {
     "output_type": "stream",
     "name": "stdout",
     "text": "The sorted list: ['0', '1', '2', '3', '5', '6']\n"
    }
   ],
   "source": [
    "arr.sort()\n",
    "print(f'The sorted list: {arr}')"
   ]
  },
  {
   "cell_type": "markdown",
   "metadata": {},
   "source": [
    "## Get the max/min values"
   ]
  },
  {
   "cell_type": "code",
   "execution_count": 6,
   "metadata": {
    "tags": []
   },
   "outputs": [
    {
     "output_type": "stream",
     "name": "stdout",
     "text": "The max value is 6 and the min value is 0\n"
    }
   ],
   "source": [
    "mx = max(arr)\n",
    "mn = min(arr)\n",
    "print(f'The max value is {mx} and the min value is {mn}')"
   ]
  },
  {
   "cell_type": "markdown",
   "metadata": {},
   "source": [
    "### another way to get the the max and the min\n",
    "Beuase it's sorted so the first item is the min and the last item is the max"
   ]
  },
  {
   "cell_type": "code",
   "execution_count": 7,
   "metadata": {
    "tags": []
   },
   "outputs": [
    {
     "output_type": "stream",
     "name": "stdout",
     "text": "The max value is 6 and the min value is 0\n"
    }
   ],
   "source": [
    "mn = arr[0]\n",
    "mx = arr[len(arr)-1]\n",
    "print(f'The max value is {mx} and the min value is {mn}')"
   ]
  },
  {
   "cell_type": "markdown",
   "metadata": {},
   "source": [
    "## Insert an item at a specific position"
   ]
  },
  {
   "cell_type": "code",
   "execution_count": 8,
   "metadata": {
    "tags": []
   },
   "outputs": [],
   "source": [
    "pos = int(input(\"Please enter the position of the inserted item     'the index start with 0'\"))\n",
    "value =input (f\"Please enter the value that you want to put in the pos {pos}\")\n",
    "arr.insert(pos,value)"
   ]
  },
  {
   "cell_type": "markdown",
   "metadata": {},
   "source": [
    "## Print the list element by element (using loops)"
   ]
  },
  {
   "cell_type": "code",
   "execution_count": 9,
   "metadata": {
    "tags": []
   },
   "outputs": [
    {
     "output_type": "stream",
     "name": "stdout",
     "text": "0\n1\n2\n33\n3\n5\n6\n"
    }
   ],
   "source": [
    "for i in range(len(arr)):\n",
    "    print(arr[i])"
   ]
  },
  {
   "cell_type": "markdown",
   "metadata": {},
   "source": [
    "### another way to print "
   ]
  },
  {
   "cell_type": "code",
   "execution_count": 10,
   "metadata": {
    "tags": []
   },
   "outputs": [
    {
     "output_type": "stream",
     "name": "stdout",
     "text": "0\n1\n2\n33\n3\n5\n6\n"
    }
   ],
   "source": [
    "for i in arr:\n",
    "    print(i)"
   ]
  },
  {
   "cell_type": "markdown",
   "metadata": {},
   "source": [
    "## Read items from user then check and print if it is in the list  or not until user enters a uniqe value "
   ]
  },
  {
   "cell_type": "code",
   "execution_count": 11,
   "metadata": {
    "tags": []
   },
   "outputs": [
    {
     "output_type": "stream",
     "name": "stdout",
     "text": "No, 23 is not in the list\nYes, 1 is in the list\nYes, 2 is in the list\nYes, 3 is in the list\nNo, 4 is not in the list\nNo,  is not in the list\nYes, 5 is in the list\nNo,  is not in the list\nYes, 6 is in the list\nYes, 2 is in the list\nYes, 0 is in the list\n"
    }
   ],
   "source": [
    "uniqe =input('Please enter the uniqe value')\n",
    "while True:\n",
    "    val = input('enter a number to check')\n",
    "    if val == uniqe:\n",
    "        break ; \n",
    "    if val in arr:\n",
    "        print(f'Yes, {val} is in the list')\n",
    "    else:\n",
    "        print(f'No, {val} is not in the list')"
   ]
  }
 ]
}